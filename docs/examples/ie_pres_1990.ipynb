{
 "cells": [
  {
   "cell_type": "markdown",
   "metadata": {},
   "source": [
    "# Irish 1990 presidential elections\n",
    "A simple example of a transferable vote system: evaluating the result of the 1990 presidential elections in Ireland.\n",
    "We choose it because the transferable vote system variant is quite simple, as is described below, and the result differs from the one obtainable by simple plurality evaluation. (We will not go into what-if scenarios here; the change of a voting system usually means a change in voter behavior due to strategic voting.)"
   ]
  },
  {
   "cell_type": "code",
   "execution_count": 1,
   "metadata": {},
   "outputs": [],
   "source": [
    "import sys\n",
    "import os\n",
    "\n",
    "sys.path.append(os.path.join('..', '..'))\n",
    "import votelib.candidate\n",
    "import votelib.evaluate.sequential"
   ]
  },
  {
   "cell_type": "markdown",
   "metadata": {},
   "source": [
    "## Evaluator construction\n",
    "First, we construct the evaluator.\n",
    "\n",
    "All of Ireland forms a single constituency for presidential elections so the votes may be summed over the whole country and there is a single evaluation taking place.\n",
    "\n",
    "Ireland uses the Single Transferable Vote system with the Hare (stochastic) variant of vote transfer and the Droop quota for election. There are no further thresholds or conditions in the evaluation."
   ]
  },
  {
   "cell_type": "code",
   "execution_count": 2,
   "metadata": {},
   "outputs": [],
   "source": [
    "evaluator = votelib.evaluate.sequential.TransferableVoteSelector(\n",
    "    quota_function='droop',\n",
    "    transferer='Hare'\n",
    ")"
   ]
  },
  {
   "cell_type": "markdown",
   "metadata": {},
   "source": [
    "## Vote construction\n",
    "We use the vote counts from the official result. Full preference lists and their counts are not published; however, the vote transfer records allow us to infer enough to reconstruct the result.\n",
    "\n",
    "Transferable voting uses ranked votes, so we use tuples of candidate names to encode voter preferences."
   ]
  },
  {
   "cell_type": "code",
   "execution_count": 3,
   "metadata": {},
   "outputs": [],
   "source": [
    "votes = {\n",
    "    ('Mary Robinson',): 612265,\n",
    "    ('Brian Lenihan',): 694484,\n",
    "    ('Austin Currie', 'Brian Lenihan'): 36789,\n",
    "    ('Austin Currie', 'Mary Robinson'): 205565,\n",
    "    ('Austin Currie',): 25548,\n",
    "}"
   ]
  },
  {
   "cell_type": "markdown",
   "metadata": {},
   "source": [
    "## Performing the evaluation\n",
    "When the evaluator is set up correctly, obtaining the result is simple. If we do not specify the number of seats explicitly, most evaluators will provide 1 as the default value."
   ]
  },
  {
   "cell_type": "code",
   "execution_count": 4,
   "metadata": {},
   "outputs": [
    {
     "name": "stdout",
     "output_type": "stream",
     "text": [
      "['Mary Robinson']\n"
     ]
    }
   ],
   "source": [
    "print(evaluator.evaluate(votes))"
   ]
  }
 ],
 "metadata": {
  "kernelspec": {
   "display_name": "Python 3",
   "language": "python",
   "name": "python3"
  },
  "language_info": {
   "codemirror_mode": {
    "name": "ipython",
    "version": 3
   },
   "file_extension": ".py",
   "mimetype": "text/x-python",
   "name": "python",
   "nbconvert_exporter": "python",
   "pygments_lexer": "ipython3",
   "version": "3.7.6"
  }
 },
 "nbformat": 4,
 "nbformat_minor": 4
}
