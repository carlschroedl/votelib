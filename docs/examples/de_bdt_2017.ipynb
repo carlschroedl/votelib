{
 "cells": [
  {
   "cell_type": "markdown",
   "metadata": {},
   "source": [
    "# German 2017 federal legislative (Bundestag) elections\n",
    "A hard-core example. Germany's federal legislative elections feature a mixed-member proportional (MMP) system where some candidates are elected in single-member constituencies while more are added through proportional allocation of party votes; additional seats are awarded to maintain the proportionality of the result.\n",
    "\n",
    "This example was constructed according to the procedure and results laid out in the [official document](https://www.bundeswahlleiter.de/dam/jcr/3f3d42ab-faef-4553-bdf8-ac089b7de86a/btw17_heft3.pdf) by the German Federal Returning Officer."
   ]
  },
  {
   "cell_type": "code",
   "execution_count": 1,
   "metadata": {},
   "outputs": [],
   "source": [
    "import sys\n",
    "import os\n",
    "import csv\n",
    "from decimal import Decimal\n",
    "\n",
    "sys.path.append(os.path.join('..', '..'))\n",
    "import votelib.convert\n",
    "import votelib.candidate\n",
    "import votelib.evaluate.core\n",
    "import votelib.evaluate.threshold\n",
    "import votelib.evaluate.proportional"
   ]
  },
  {
   "cell_type": "markdown",
   "metadata": {},
   "source": [
    "## Vote loading\n",
    "Each voter casts two votes in German legislative election; the first one goes to a specific person standing in the local constituency, and the second one goes to a party. Independent constituency candidates are a minority and none has won a seat in the past fifty years; therefore, we omit this step and only consider votes for parties.\n",
    "\n",
    "Since the voting system has two nesting levels - federal states *(Land)* and local constituency *(Wahlkreis)* -, we construct two doubly-nested dictionaries - one for the first votes *(Erststimme)*, and one for the second votes *(Zweitstimme)*."
   ]
  },
  {
   "cell_type": "code",
   "execution_count": 2,
   "metadata": {},
   "outputs": [
    {
     "name": "stdout",
     "output_type": "stream",
     "text": [
      "{'CDU': 27654, 'SPD': 35036, 'DIE LINKE': 30492, 'GRÜNE': 26781, 'CSU': 0, 'FDP': 9017, 'AfD': 11782, 'PIRATEN': 0, 'NPD': 0, 'FREIE WÄHLER': 648}\n"
     ]
    }
   ],
   "source": [
    "fpath = os.path.join('..', '..', 'tests', 'real', 'data', 'de_bdt_2017.csv')\n",
    "with open(fpath, encoding='utf8') as infile:\n",
    "    rows = list(csv.reader(infile, delimiter=';'))\n",
    "party_names = [item for item in rows[0][2:] if item]\n",
    "erst_stimmen, zweit_stimmen = {}, {}\n",
    "for row in rows[2:]:\n",
    "    wahlkreis, land = row[:2]\n",
    "    # Next cells in rows are first and second votes alternating, grouped by party. Empty cells are zeroes.\n",
    "    row[2:] = [int(x) if x else 0 for x in row[2:]]\n",
    "    # Add the first and second votes to the register.\n",
    "    erst_stimmen.setdefault(land, {})[wahlkreis] = dict(zip(party_names, row[2::2]))\n",
    "    zweit_stimmen.setdefault(land, {})[wahlkreis] = dict(zip(party_names, row[3::2]))\n",
    "print(erst_stimmen['Berlin']['Berlin-Mitte'])"
   ]
  },
  {
   "cell_type": "markdown",
   "metadata": {},
   "source": [
    "## Evaluator construction\n",
    "We will need a complicated evaluator for the election.\n",
    "\n",
    "The constituency winners are determined by simple plurality, each constituency giving a single winner. We will wrap this into a `ByConstituency` object to evaluate each constituency, and a combination of `SelectionToDistribution` and `MergedDistributions` to obtain party results at federal state level for each federal state:"
   ]
  },
  {
   "cell_type": "code",
   "execution_count": 3,
   "metadata": {},
   "outputs": [],
   "source": [
    "round1_eval = votelib.evaluate.core.ByConstituency(          # for each federal state\n",
    "    votelib.evaluate.core.PostConverted(                     # sum all constituency results\n",
    "        votelib.evaluate.core.ByConstituency(                # evaluated over each constituency\n",
    "            votelib.evaluate.core.PostConverted(\n",
    "                votelib.evaluate.core.Plurality(),           # by plurality selection\n",
    "                votelib.convert.SelectionToDistribution()    # converted to a distribution format {winner: 1}\n",
    "            ),\n",
    "            apportioner=1,                                   # each constituency has a single winner\n",
    "        ),\n",
    "        votelib.convert.MergedDistributions()\n",
    "    )\n",
    ")"
   ]
  },
  {
   "cell_type": "markdown",
   "metadata": {},
   "source": [
    "Before the elections, the shares of the nationwide total of 598 seats allocated to each federal state are determined according to their census population by the Sainte-Laguë (Schepers) method: "
   ]
  },
  {
   "cell_type": "code",
   "execution_count": 4,
   "metadata": {},
   "outputs": [
    {
     "name": "stdout",
     "output_type": "stream",
     "text": [
      "{'Nordrhein-Westfalen': 128, 'Bayern': 93, 'Baden-Württemberg': 76, 'Niedersachsen': 59, 'Hessen': 43, 'Sachsen': 32, 'Rheinland-Pfalz': 30, 'Berlin': 24, 'Schleswig-Holstein': 22, 'Brandenburg': 20, 'Sachsen-Anhalt': 17, 'Thüringen': 17, 'Mecklenburg-Vorpommern': 13, 'Hamburg': 12, 'Saarland': 7, 'Bremen': 5}\n"
     ]
    }
   ],
   "source": [
    "land_inhab = {\n",
    "    'Schleswig-Holstein': 2673803,\n",
    "    'Hamburg': 1525090,\n",
    "    'Niedersachsen': 7278789,\n",
    "    'Bremen': 568510,\n",
    "    'Nordrhein-Westfalen': 15707569,\n",
    "    'Hessen': 5281198,\n",
    "    'Rheinland-Pfalz': 3661245,\n",
    "    'Baden-Württemberg': 9365001,\n",
    "    'Bayern': 11362245,\n",
    "    'Saarland': 899748,\n",
    "    'Berlin': 2975745,\n",
    "    'Brandenburg': 2391746,\n",
    "    'Mecklenburg-Vorpommern': 1548400,\n",
    "    'Sachsen': 3914671,\n",
    "    'Sachsen-Anhalt': 2145671,\n",
    "    'Thüringen': 2077901,\n",
    "}\n",
    "prop_eval = votelib.evaluate.proportional.HighestAverages('sainte_lague')\n",
    "land_seats = prop_eval.evaluate(land_inhab, 598)\n",
    "print(land_seats)"
   ]
  },
  {
   "cell_type": "markdown",
   "metadata": {},
   "source": [
    "The seats to parties are distributed proportionally in each federal state according to their shares of second votes, again by the Sainte-Laguë method, eliminating parties that did not reach a 5 % statewide vote threshold:"
   ]
  },
  {
   "cell_type": "code",
   "execution_count": 5,
   "metadata": {},
   "outputs": [],
   "source": [
    "land_prop_eval = votelib.evaluate.core.ByConstituency(    # for each state\n",
    "    prop_eval,\n",
    "    apportioner=land_seats,                               # distribute a fixed given amount of seats\n",
    "    preselector=votelib.evaluate.threshold.RelativeThreshold(Decimal('.05'))\n",
    ")"
   ]
  },
  {
   "cell_type": "markdown",
   "metadata": {},
   "source": [
    "In addition to this, the system ensures that the number of seats awarded to each party is proportional to nationwide vote counts. These seat counts are computed by the Sainte-Laguë method. Only parties that gained at least 5 % of the nationwide vote or at least three constituency seats are entitled to national votes:"
   ]
  },
  {
   "cell_type": "code",
   "execution_count": 6,
   "metadata": {},
   "outputs": [],
   "source": [
    "nat_eval = votelib.evaluate.core.Conditioned(\n",
    "    votelib.evaluate.threshold.AlternativeThresholds([\n",
    "        votelib.evaluate.threshold.RelativeThreshold(Decimal('.05')),\n",
    "        votelib.evaluate.threshold.PreviousGainThreshold(\n",
    "            votelib.evaluate.threshold.AbsoluteThreshold(3)\n",
    "        )\n",
    "    ]),\n",
    "    prop_eval\n",
    ")"
   ]
  },
  {
   "cell_type": "markdown",
   "metadata": {},
   "source": [
    "In mixed-member proportional system, *overhang seats* often arise when a party wins more constituency seats in the first round than it is entitled to by the result of the second round. There are multiple ways to deal with overhang; in Germany, the overhang seats are retained and some more seats *(leveling seats)* are added to the size of the parliament (`AdjustedSeatCount`) so that the proportionality with respect to the second round is satisfied *in each federal state* (`LevelOverhangByConstituency`).\n",
    "\n",
    "After the total chamber seat count is determined, the German system specifies that the seats awarded on the national level to each party are to be distributed among that party's federal state lists in proportion of their votes (`ByParty`), again by the Sainte-Laguë evaluator (`prop_eval`)."
   ]
  },
  {
   "cell_type": "code",
   "execution_count": 7,
   "metadata": {},
   "outputs": [],
   "source": [
    "round2_eval = votelib.evaluate.core.PreConverted(\n",
    "    votelib.convert.ByConstituency(votelib.convert.VoteTotals()),        # sum votes from constituencies to fed states\n",
    "    votelib.evaluate.core.AdjustedSeatCount(\n",
    "        calculator=votelib.evaluate.core.LevelOverhangByConstituency(    # computes the actual number of seats\n",
    "            constituency_evaluator=land_prop_eval,                       # by distributing seats in each fed state\n",
    "            overall_evaluator=nat_eval,                                  # and comparing to nationwide distribution\n",
    "        ),\n",
    "        evaluator=votelib.evaluate.core.ByParty(                         # with the total number of seats\n",
    "            overall_evaluator=nat_eval,                                  # distribute them among the parties nationally\n",
    "            allocator=prop_eval,                                         # and distribute those to its fed state lists.\n",
    "        )\n",
    "    )\n",
    ")"
   ]
  },
  {
   "cell_type": "markdown",
   "metadata": {},
   "source": [
    "Phew. Now we combine the two rounds into a single evaluator using `MultistageDistributor` (specifying that the votes are doubly nested by `depth=2`) and specify the normal count of seats (which will then be adjusted by the second round evaluator) to be 598."
   ]
  },
  {
   "cell_type": "code",
   "execution_count": 8,
   "metadata": {},
   "outputs": [],
   "source": [
    "total_eval = votelib.evaluate.FixedSeatCount(\n",
    "    votelib.evaluate.core.MultistageDistributor([round1_eval, round2_eval], depth=2),\n",
    "    598\n",
    ")"
   ]
  },
  {
   "cell_type": "markdown",
   "metadata": {},
   "source": [
    "## Performing the evaluation\n",
    "The evaluator produces the seat counts for parties by federal states. We need to provide votes for both stages."
   ]
  },
  {
   "cell_type": "code",
   "execution_count": 9,
   "metadata": {},
   "outputs": [
    {
     "name": "stdout",
     "output_type": "stream",
     "text": [
      "SPD        5\n",
      "DIE LINKE  6\n",
      "CDU        6\n",
      "GRÜNE      4\n",
      "AfD        4\n",
      "FDP        3\n"
     ]
    }
   ],
   "source": [
    "land_result = total_eval.evaluate([erst_stimmen, zweit_stimmen])\n",
    "for party, n_land_seats in land_result['Berlin'].items():\n",
    "    print(party.ljust(10), n_land_seats)"
   ]
  },
  {
   "cell_type": "markdown",
   "metadata": {},
   "source": [
    "To determine the nationwide seat counts, we can use `MergedDistributions`."
   ]
  },
  {
   "cell_type": "code",
   "execution_count": 10,
   "metadata": {},
   "outputs": [
    {
     "name": "stdout",
     "output_type": "stream",
     "text": [
      "SPD        153\n",
      "CDU        200\n",
      "AfD        94\n",
      "FDP        80\n",
      "DIE LINKE  69\n",
      "GRÜNE      67\n",
      "CSU        46\n",
      "\n",
      "Total      709\n"
     ]
    }
   ],
   "source": [
    "bund_result = votelib.convert.MergedDistributions().convert(land_result)\n",
    "for party, n_land_seats in bund_result.items():\n",
    "    print(party.ljust(10), n_land_seats)\n",
    "print()\n",
    "print('Total     ', sum(bund_result.values()))"
   ]
  },
  {
   "cell_type": "markdown",
   "metadata": {},
   "source": [
    "We see that seven parties are represented in the Bundestag after 2017, with the number of seats increased to 709 due to a high amount of overhang seats (for CDU and CSU, who won an overwhelming majority of the constituency seats) and leveling seats for other parties to offset that."
   ]
  }
 ],
 "metadata": {
  "kernelspec": {
   "display_name": "Python 3",
   "language": "python",
   "name": "python3"
  },
  "language_info": {
   "codemirror_mode": {
    "name": "ipython",
    "version": 3
   },
   "file_extension": ".py",
   "mimetype": "text/x-python",
   "name": "python",
   "nbconvert_exporter": "python",
   "pygments_lexer": "ipython3",
   "version": "3.7.6"
  }
 },
 "nbformat": 4,
 "nbformat_minor": 4
}
