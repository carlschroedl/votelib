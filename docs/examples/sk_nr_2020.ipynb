{
 "cells": [
  {
   "cell_type": "markdown",
   "metadata": {},
   "source": [
    "# Slovak 2020 parliamentary elections\n",
    "A simple example: evaluating the result of the 2020 parliamentary elections in the Central European country of Slovakia.\n",
    "We choose it because its electoral system is quite simple, as is described below, yet it is not trivial to get the result."
   ]
  },
  {
   "cell_type": "code",
   "execution_count": 1,
   "metadata": {},
   "outputs": [],
   "source": [
    "import sys\n",
    "import os\n",
    "import csv\n",
    "import decimal\n",
    "\n",
    "sys.path.append(os.path.join('..', '..'))\n",
    "import votelib.candidate\n",
    "import votelib.evaluate.core\n",
    "import votelib.evaluate.threshold\n",
    "import votelib.evaluate.proportional"
   ]
  },
  {
   "cell_type": "markdown",
   "metadata": {},
   "source": [
    "## Evaluator construction\n",
    "First, we construct the evaluator.\n",
    "\n",
    "All of Slovakia forms a single constituency so the votes may be summed over the whole country and there is a single evaluation taking place.\n",
    "\n",
    "Slovakia uses the Hagenbach-Bischoff largest remainder system (rounded mathematically) to allocate the 150 seats in its National Council to parties. The candidates elected are determined through open lists, but we will not go into that detail here. The evaluator is simple to construct:"
   ]
  },
  {
   "cell_type": "code",
   "execution_count": 2,
   "metadata": {},
   "outputs": [],
   "source": [
    "core_evaluator = votelib.evaluate.proportional.LargestRemainder(\n",
    "    'hagenbach_bischoff_rounded'\n",
    ")"
   ]
  },
  {
   "cell_type": "markdown",
   "metadata": {},
   "source": [
    "Slovakia also uses a minimum vote threshold (as a fraction of national level votes) to exclude small parties.\n",
    "The threshold is 5% for single parties, 7% for two- and three-member coalitions and 10% for four- and more member coalitions.\n",
    "We thus need to construct a pre-selection evaluator that selects only parties over the threshold:"
   ]
  },
  {
   "cell_type": "code",
   "execution_count": 3,
   "metadata": {},
   "outputs": [],
   "source": [
    "# using decimals to be precise\n",
    "standard_elim = votelib.evaluate.threshold.RelativeThreshold(\n",
    "    decimal.Decimal('.05'), accept_equal=True # reaching the exact count is sufficient\n",
    ")\n",
    "mem_2_3_elim = votelib.evaluate.threshold.RelativeThreshold(\n",
    "    decimal.Decimal('.07'), accept_equal=True\n",
    ")\n",
    "mem_4plus_elim = votelib.evaluate.threshold.RelativeThreshold(\n",
    "    decimal.Decimal('.1'), accept_equal=True\n",
    ")\n",
    "# combine the individual evaluators into a dispatcher based on coalition member count\n",
    "preselector = votelib.evaluate.threshold.CoalitionMemberBracketer(\n",
    "    {1: standard_elim, 2: mem_2_3_elim, 3: mem_2_3_elim},\n",
    "    default=mem_4plus_elim\n",
    ")"
   ]
  },
  {
   "cell_type": "markdown",
   "metadata": {},
   "source": [
    "Now, we set up the pre-selector to be a condition for entering the evaluation (all votes for other parties will be simply discarded) and fix the number of seats (the Slovak National Council has 150 seats):"
   ]
  },
  {
   "cell_type": "code",
   "execution_count": 4,
   "metadata": {},
   "outputs": [],
   "source": [
    "evaluator = votelib.evaluate.core.FixedSeatCount(\n",
    "    votelib.evaluate.core.Conditioned(preselector, core_evaluator), 150\n",
    ")"
   ]
  },
  {
   "cell_type": "markdown",
   "metadata": {},
   "source": [
    "## Vote loading\n",
    "Now we load the vote counts. Since all of Slovakia forms a single constituency the votes are already summed over the whole country."
   ]
  },
  {
   "cell_type": "code",
   "execution_count": 5,
   "metadata": {},
   "outputs": [
    {
     "name": "stdout",
     "output_type": "stream",
     "text": [
      "['721166', '527172', '237531', '229660', '200780', '179246', '166325', '134099', '112662', '91171', '88220', '84507', '59174', '15925', '9260', '8191', '4194', '3296', '2018', '1966', '1887', '1261', '991', '809']\n"
     ]
    }
   ],
   "source": [
    "fpath = os.path.join('..', '..', 'tests', 'real', 'data', 'sk_nr_2020.csv')\n",
    "with open(fpath, encoding='utf8') as infile:\n",
    "    rows = list(csv.reader(infile, delimiter=';'))\n",
    "    party_names, coalition_flags, votes, seats = [list(x) for x in zip(*rows)]\n",
    "print(votes)"
   ]
  },
  {
   "cell_type": "markdown",
   "metadata": {},
   "source": [
    "Since the `CoalitionMemberBracketer` needs `ElectionParty` objects as candidates to determine coalition sizes, we will need to construct those from the party names and coalition flags (1 if the election party is a coalition)."
   ]
  },
  {
   "cell_type": "code",
   "execution_count": 6,
   "metadata": {},
   "outputs": [],
   "source": [
    "parties = [\n",
    "    votelib.candidate.Coalition(name=name, parties=[\n",
    "        votelib.candidate.PoliticalParty(pname)\n",
    "        for pname in name.split('-')\n",
    "    ])\n",
    "    if int(coalflag) else votelib.candidate.PoliticalParty(name)\n",
    "    for name, coalflag in zip(party_names, coalition_flags)\n",
    "]"
   ]
  },
  {
   "cell_type": "markdown",
   "metadata": {},
   "source": [
    "Now, we assemble the votes into a dictionary to be accepted by the evaluator."
   ]
  },
  {
   "cell_type": "code",
   "execution_count": 7,
   "metadata": {},
   "outputs": [
    {
     "data": {
      "text/plain": [
       "{<PoliticalParty(OĽANO)>: 721166,\n",
       " <PoliticalParty(Smer)>: 527172,\n",
       " <PoliticalParty(Sme rodina)>: 237531,\n",
       " <PoliticalParty(ĽSNS)>: 229660,\n",
       " Coalition([<PoliticalParty(Progresívne Slovensko)>, <PoliticalParty(SPOLU)>]): 200780,\n",
       " <PoliticalParty(Sloboda a Solidarita)>: 179246,\n",
       " <PoliticalParty(Za ľudí)>: 166325,\n",
       " <PoliticalParty(Kresťanskodemokratické hnutie)>: 134099,\n",
       " <PoliticalParty(MKÖ-MKS)>: 112662,\n",
       " <PoliticalParty(SNS)>: 91171,\n",
       " <PoliticalParty(Dobrá voľba)>: 88220,\n",
       " <PoliticalParty(Vlasť)>: 84507,\n",
       " <PoliticalParty(Most-Híd)>: 59174,\n",
       " <PoliticalParty(Socialisti.sk)>: 15925,\n",
       " <PoliticalParty(Máme toho dosť!)>: 9260,\n",
       " <PoliticalParty(Slovenská ľudová strana Andreja Hlinku)>: 8191,\n",
       " <PoliticalParty(Demokratická strana)>: 4194,\n",
       " <PoliticalParty(Solidarita-HPCh)>: 3296,\n",
       " <PoliticalParty(STAROSTOVIA A NEZÁVISLÍ KANDIDÁTI)>: 2018,\n",
       " <PoliticalParty(Slovenské Hnutie Obrody)>: 1966,\n",
       " <PoliticalParty(Hlas ľudu)>: 1887,\n",
       " <PoliticalParty(Práca slovenského národa)>: 1261,\n",
       " <PoliticalParty(99 % – občiansky hlas)>: 991,\n",
       " <PoliticalParty(Slovenská liga)>: 809}"
      ]
     },
     "execution_count": 7,
     "metadata": {},
     "output_type": "execute_result"
    }
   ],
   "source": [
    "votes = dict(zip(parties, [int(v) for v in votes]))\n",
    "votes"
   ]
  },
  {
   "cell_type": "markdown",
   "metadata": {},
   "source": [
    "## Performing the evaluation\n",
    "When the evaluator is set up correctly, obtaining the result is simple."
   ]
  },
  {
   "cell_type": "code",
   "execution_count": 8,
   "metadata": {},
   "outputs": [
    {
     "name": "stdout",
     "output_type": "stream",
     "text": [
      "OĽANO                          53\n",
      "Smer                           38\n",
      "Sme rodina                     17\n",
      "ĽSNS                           17\n",
      "Sloboda a Solidarita           13\n",
      "Za ľudí                        12\n"
     ]
    }
   ],
   "source": [
    "evaluated = evaluator.evaluate(votes)\n",
    "for party, mandates in evaluated.items():\n",
    "    print(party.name.ljust(30), mandates)"
   ]
  },
  {
   "cell_type": "markdown",
   "metadata": {},
   "source": [
    "We see that six parties were elected; although *PS-Spolu* had more votes than either *SaS* or *Za ľudí*, it was excluded by the higher threshold for coalitions."
   ]
  }
 ],
 "metadata": {
  "kernelspec": {
   "display_name": "Python 3",
   "language": "python",
   "name": "python3"
  },
  "language_info": {
   "codemirror_mode": {
    "name": "ipython",
    "version": 3
   },
   "file_extension": ".py",
   "mimetype": "text/x-python",
   "name": "python",
   "nbconvert_exporter": "python",
   "pygments_lexer": "ipython3",
   "version": "3.7.6"
  }
 },
 "nbformat": 4,
 "nbformat_minor": 4
}
