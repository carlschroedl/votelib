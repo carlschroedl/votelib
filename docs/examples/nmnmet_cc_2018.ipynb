{
 "cells": [
  {
   "cell_type": "markdown",
   "metadata": {},
   "source": [
    "# Czech municipal elections 2018: Nové Město nad Metují\n",
    "Czech municipal elections use an open-list proportional system that allows panachage - marking candidates across parties. Here, we give an example of how to evaluate such a composite election system."
   ]
  },
  {
   "cell_type": "code",
   "execution_count": 1,
   "metadata": {},
   "outputs": [],
   "source": [
    "import sys\n",
    "import os\n",
    "import csv\n",
    "import decimal\n",
    "\n",
    "sys.path.append(os.path.join('..', '..'))\n",
    "import votelib.candidate\n",
    "import votelib.convert\n",
    "import votelib.evaluate.core\n",
    "import votelib.evaluate.threshold\n",
    "import votelib.evaluate.proportional\n",
    "import votelib.evaluate.openlist"
   ]
  },
  {
   "cell_type": "markdown",
   "metadata": {},
   "source": [
    "## Vote loading\n",
    "The voters are given a huge ballot where they can vote for arbitrary candidates across parties, with the number of votes equal to the number of seats in the municipal council. In addition to this, they can also vote for a party, whose candidates obtain the votes not assigned to candidates elsewhere, counting from the top. The votes are thus counted for the candidates and can be aggregated to the parties.\n",
    "\n",
    "We use the `Person` and `PoliticalParty` object to determine the relationships of candidates to their parties and aggregate their votes accordingly later."
   ]
  },
  {
   "cell_type": "code",
   "execution_count": 2,
   "metadata": {},
   "outputs": [],
   "source": [
    "fpath = os.path.join('..', '..', 'tests', 'real', 'data', 'nmnmet_cc_2018.csv')\n",
    "votes = {}\n",
    "party_objs = {}\n",
    "party_lists = {}\n",
    "with open(fpath, encoding='utf8') as infile:\n",
    "    for party, name, n_pers_votes in csv.reader(infile, delimiter=';'):\n",
    "        # For each candidate: Get the according party object;\n",
    "        party_obj = party_objs.setdefault(party, votelib.candidate.PoliticalParty(party))\n",
    "        # Construct the person object with a reference to the party;\n",
    "        person = votelib.candidate.Person(name, candidacy_for=party_obj)\n",
    "        # Record the candidate's votes;\n",
    "        votes[person] = int(n_pers_votes)\n",
    "        # Append the candidate to the party list of his or her party.\n",
    "        party_lists.setdefault(party_obj, []).append(person)"
   ]
  },
  {
   "cell_type": "markdown",
   "metadata": {},
   "source": [
    "An example of the votes and party list for the incumbent ruling party:"
   ]
  },
  {
   "cell_type": "code",
   "execution_count": 3,
   "metadata": {},
   "outputs": [
    {
     "name": "stdout",
     "output_type": "stream",
     "text": [
      "['Hable Petr', 'Beseda Michal Ing. MBA', 'Maur Vilém Ing. MBA', 'Němeček Jan Ing.', 'Petruželková Marie', 'Hladík Jiří', 'Neumann Jan Ing.', 'Novotný Jiří', 'Prouza Radek', 'Hrnčíř Pavel', 'Bureš Michal Mgr.', 'Vlček Petr Mgr. A.', 'Rydlová Hana Mgr.', 'Minařík Jan Mgr.', 'Zimlová Věra', 'Roštlapil Tomáš Ing.', 'Krákorová Andrea Mgr.', 'Vintera Miroslav Ing.', 'Mach Martin Ing.', 'Reichmann David', 'Volf Martin Mgr.']\n"
     ]
    },
    {
     "data": {
      "text/plain": [
       "{'Hable Petr': 1479,\n",
       " 'Beseda Michal Ing. MBA': 962,\n",
       " 'Maur Vilém Ing. MBA': 1235,\n",
       " 'Němeček Jan Ing.': 1013,\n",
       " 'Petruželková Marie': 1053,\n",
       " 'Hladík Jiří': 1200,\n",
       " 'Neumann Jan Ing.': 1005,\n",
       " 'Novotný Jiří': 808,\n",
       " 'Prouza Radek': 1084,\n",
       " 'Hrnčíř Pavel': 722,\n",
       " 'Bureš Michal Mgr.': 793,\n",
       " 'Vlček Petr Mgr. A.': 770,\n",
       " 'Rydlová Hana Mgr.': 815,\n",
       " 'Minařík Jan Mgr.': 770,\n",
       " 'Zimlová Věra': 777,\n",
       " 'Roštlapil Tomáš Ing.': 1006,\n",
       " 'Krákorová Andrea Mgr.': 828,\n",
       " 'Vintera Miroslav Ing.': 682,\n",
       " 'Mach Martin Ing.': 664,\n",
       " 'Reichmann David': 651,\n",
       " 'Volf Martin Mgr.': 835}"
      ]
     },
     "execution_count": 3,
     "metadata": {},
     "output_type": "execute_result"
    }
   ],
   "source": [
    "vpm_object = party_objs['VPM']\n",
    "print([cand.name for cand in party_lists[vpm_object]])\n",
    "{cand.name: n_votes for cand, n_votes in votes.items() if cand.candidacy_for == vpm_object}"
   ]
  },
  {
   "cell_type": "markdown",
   "metadata": {},
   "source": [
    "## Evaluator construction\n",
    "Each Czech municipality forms a single constituency for the election.\n",
    "\n",
    "The evaluation proceeds by first evaluating party results, so the results for the individual candidates must be grouped by their party. This mapping is defined by the candidates' `candidacy_for` attribute, which is recognized by the `IndividualToPartyMapper` object by default. Because independent candidates are not allowed to stand in the election, we add the behavior to recognize them as errors:"
   ]
  },
  {
   "cell_type": "code",
   "execution_count": 4,
   "metadata": {},
   "outputs": [],
   "source": [
    "vote_grouper = votelib.convert.GroupVotesByParty(\n",
    "    votelib.candidate.IndividualToPartyMapper(independents='error')\n",
    ")"
   ]
  },
  {
   "cell_type": "markdown",
   "metadata": {},
   "source": [
    "The seats are allocated to the parties by the proportional D'Hondt system with a 5 % municipal vote threshold. We thus construct the proportional evaluator conditioned by the vote threshold and pre-aggregated by summing the grouped votes for parties:"
   ]
  },
  {
   "cell_type": "code",
   "execution_count": 5,
   "metadata": {},
   "outputs": [],
   "source": [
    "party_evaluator = votelib.evaluate.core.PreConverted(\n",
    "    votelib.convert.PartyTotals(),\n",
    "    votelib.evaluate.core.Conditioned(\n",
    "        votelib.evaluate.threshold.RelativeThreshold(\n",
    "            decimal.Decimal('.05'), accept_equal=True\n",
    "        ),\n",
    "        votelib.evaluate.proportional.HighestAverages('d_hondt'),\n",
    "    )\n",
    ")"
   ]
  },
  {
   "cell_type": "markdown",
   "metadata": {},
   "source": [
    "Next, the party open lists are evaluated by the votes for their individual candidates. The candidate can advance forward in the list ranking if he or she has more than 5 % of the votes for the list; all such candidates are ranked first by the number of votes in descending order, and the rest goes after them in list order. We can use `PartyListEvaluator` to manage the list election and have `ThresholdOpenList` determine the elected candidates for each party. We use the vote grouper in two places to group both the party votes and list votes, which are passed separately:"
   ]
  },
  {
   "cell_type": "code",
   "execution_count": 6,
   "metadata": {},
   "outputs": [],
   "source": [
    "list_evaluator = votelib.evaluate.core.PreConverted(\n",
    "    vote_grouper,\n",
    "    votelib.evaluate.core.PartyListEvaluator(\n",
    "        party_evaluator,\n",
    "        votelib.evaluate.openlist.ThresholdOpenList(\n",
    "            jump_fraction=decimal.Decimal('.05')\n",
    "        ),\n",
    "        list_votes_converter=vote_grouper,\n",
    "    )\n",
    ")"
   ]
  },
  {
   "cell_type": "markdown",
   "metadata": {},
   "source": [
    "Finally, we fix the number of seats - the municipal council of Nové Město nad Metují has 21 seats:"
   ]
  },
  {
   "cell_type": "code",
   "execution_count": 7,
   "metadata": {},
   "outputs": [],
   "source": [
    "evaluator = votelib.evaluate.core.FixedSeatCount(\n",
    "    list_evaluator, 21\n",
    ")"
   ]
  },
  {
   "cell_type": "markdown",
   "metadata": {},
   "source": [
    "## Performing the evaluation\n",
    "With the evaluator set up, we obtain the evaluation as lists of candidates per party."
   ]
  },
  {
   "cell_type": "code",
   "execution_count": 8,
   "metadata": {},
   "outputs": [
    {
     "name": "stdout",
     "output_type": "stream",
     "text": [
      "VPM             Hable Petr, Maur Vilém Ing. MBA, Hladík Jiří, Prouza Radek, Petruželková Marie, Němeček Jan Ing.\n",
      "ODS             Hovorka Libor Ing., Kupková Irena Mgr., Slavík Milan Ing., Jarolímek Miroslav\n",
      "NM              Sláma Jiří Bc., Žahourková Markéta, Paarová Soňa Mgr.\n",
      "VČ              Tymel Jiří Ing., Prouza Martin Ing., Balcarová Jana Mgr.\n",
      "KDU-ČSL         Hylský Josef Mgr., Neumann Petr Ing., Dostál Pavel Ing. et Ing.\n",
      "ČSSD            Čopík Jan Ing. Ph.D.\n",
      "KSČM            Kulhavá Zdeňka PhDr.\n"
     ]
    }
   ],
   "source": [
    "list_results = evaluator.evaluate(\n",
    "    votes,\n",
    "    list_votes=votes,\n",
    "    party_lists=party_lists\n",
    ")\n",
    "for party, mandates in list_results.items():\n",
    "    print(party.name.ljust(15), ', '.join([cand.name for cand in mandates]))"
   ]
  },
  {
   "cell_type": "markdown",
   "metadata": {},
   "source": [
    "We can see that VPM, the incumbent ruling party, has defended its first place with six seats, but its second place candidate from the original list was not elected because other candidates from the party with more votes jumped over him during open list evaluation."
   ]
  }
 ],
 "metadata": {
  "kernelspec": {
   "display_name": "Python 3",
   "language": "python",
   "name": "python3"
  },
  "language_info": {
   "codemirror_mode": {
    "name": "ipython",
    "version": 3
   },
   "file_extension": ".py",
   "mimetype": "text/x-python",
   "name": "python",
   "nbconvert_exporter": "python",
   "pygments_lexer": "ipython3",
   "version": "3.7.6"
  }
 },
 "nbformat": 4,
 "nbformat_minor": 4
}
